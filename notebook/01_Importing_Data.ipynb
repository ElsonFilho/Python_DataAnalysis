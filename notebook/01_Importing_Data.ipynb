{
  "nbformat": 4,
  "nbformat_minor": 0,
  "metadata": {
    "colab": {
      "provenance": [],
      "authorship_tag": "ABX9TyPWSaqMMmxntp7HiWT4g3PP"
    },
    "kernelspec": {
      "name": "python3",
      "display_name": "Python 3"
    },
    "language_info": {
      "name": "python"
    }
  },
  "cells": [
    {
      "cell_type": "markdown",
      "source": [
        "**Importing Data Sets**\n",
        "\n",
        "Bring data into your Python environment from various sources using popular libraries like pandas.\n",
        "\n",
        "Import data from different file formats and sources, handle basic loading parameters, and perform initial inspections of the imported data."
      ],
      "metadata": {
        "id": "rOE0InsiCyqX"
      }
    },
    {
      "cell_type": "code",
      "execution_count": null,
      "metadata": {
        "id": "lWHzYelbCrnc"
      },
      "outputs": [],
      "source": []
    }
  ]
}
